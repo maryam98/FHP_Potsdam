{
  "nbformat": 4,
  "nbformat_minor": 0,
  "metadata": {
    "colab": {
      "provenance": [],
      "authorship_tag": "ABX9TyOyt2YaQG7mncVft2CtgGRP",
      "include_colab_link": true
    },
    "kernelspec": {
      "name": "python3",
      "display_name": "Python 3"
    },
    "language_info": {
      "name": "python"
    }
  },
  "cells": [
    {
      "cell_type": "markdown",
      "metadata": {
        "id": "view-in-github",
        "colab_type": "text"
      },
      "source": [
        "<a href=\"https://colab.research.google.com/github/maryam98/FHP_Potsdam/blob/main/fhp.ipynb\" target=\"_parent\"><img src=\"https://colab.research.google.com/assets/colab-badge.svg\" alt=\"Open In Colab\"/></a>"
      ]
    },
    {
      "cell_type": "code",
      "execution_count": null,
      "metadata": {
        "id": "MHnJaYJ-nLbw"
      },
      "outputs": [],
      "source": [
        " import xml.etree.ElementTree as ET\n",
        "\n"
      ]
    },
    {
      "cell_type": "code",
      "source": [
        "import requests"
      ],
      "metadata": {
        "id": "fxXttBhHxZzs"
      },
      "execution_count": 7,
      "outputs": []
    },
    {
      "cell_type": "code",
      "source": [
        "response = requests.get(\"https://raw.githubusercontent.com/maryam98/FHP_Potsdam/main/fachbereichsverantwortliche_FHP.xml\")\n"
      ],
      "metadata": {
        "id": "6zt93cl8xd_8"
      },
      "execution_count": 8,
      "outputs": []
    },
    {
      "cell_type": "code",
      "source": [
        "data = response.content"
      ],
      "metadata": {
        "id": "PJ1PyZtoxmds"
      },
      "execution_count": 9,
      "outputs": []
    },
    {
      "cell_type": "code",
      "source": [
        "tree = ET.fromstring(data)"
      ],
      "metadata": {
        "id": "HvAwxWXvrmqw"
      },
      "execution_count": 11,
      "outputs": []
    },
    {
      "cell_type": "code",
      "source": [
        "verantwortliche = tree.findall(\".//fhpFbVerantwortliche\")"
      ],
      "metadata": {
        "id": "0sk56GGax8X9"
      },
      "execution_count": 13,
      "outputs": []
    },
    {
      "cell_type": "code",
      "source": [
        "for verantwortliche in verantwortliche:\n",
        "    if verantwortliche.attrib[\"stg\"] == \"02\":\n",
        "        print(verantwortliche.find(\"Dekan\").text, verantwortliche.find(\"PA\").text)"
      ],
      "metadata": {
        "id": "JdzyLeCGydim"
      },
      "execution_count": 19,
      "outputs": []
    }
  ]
}